{
 "cells": [
  {
   "cell_type": "markdown",
   "metadata": {},
   "source": [
    "What we will cover in this notebook:\n",
    "* list, tuple, dictionaries\n",
    "* set-comprehensions\n",
    "* loops, iterators \n",
    "* main function"
   ]
  },
  {
   "cell_type": "code",
   "execution_count": 1,
   "metadata": {
    "collapsed": true
   },
   "outputs": [],
   "source": [
    "%matplotlib inline\n",
    "import numpy as np\n",
    "from itertools import product \n"
   ]
  },
  {
   "cell_type": "markdown",
   "metadata": {},
   "source": [
    "## Control-flow"
   ]
  },
  {
   "cell_type": "markdown",
   "metadata": {},
   "source": [
    "<div class=\"alert alert-success\">\n",
    "\n",
    "<b>EXERCISE-1</b>:\n",
    "<ul>\n",
    "\n",
    "<li> Write a function which checks if a list has some element, similarly checks that a list is empty</li>\n",
    "</ul>\n",
    "\n",
    "</div>"
   ]
  },
  {
   "cell_type": "code",
   "execution_count": 16,
   "metadata": {
    "collapsed": true
   },
   "outputs": [],
   "source": [
    "def test(elem):\n",
    "    if not elem: \n",
    "        print(\"List is empty\")\n",
    "    else:\n",
    "        print(\"List isn't empty\")"
   ]
  },
  {
   "cell_type": "code",
   "execution_count": 17,
   "metadata": {},
   "outputs": [
    {
     "name": "stdout",
     "output_type": "stream",
     "text": [
      "List isn't empty\n"
     ]
    }
   ],
   "source": [
    "a = [\"a\",\"b\",\"c\"]\n",
    "test(a)"
   ]
  },
  {
   "cell_type": "code",
   "execution_count": 18,
   "metadata": {},
   "outputs": [
    {
     "name": "stdout",
     "output_type": "stream",
     "text": [
      "List is empty\n"
     ]
    }
   ],
   "source": [
    "a = []\n",
    "test(a)"
   ]
  },
  {
   "cell_type": "markdown",
   "metadata": {},
   "source": [
    "<div class=\"alert alert-success\">\n",
    "\n",
    "<b>EXERCISE-2</b>:\n",
    "<ul>\n",
    "<li> Write a statement to check the same for an integer, check your statements, when your integer is 0</li>\n",
    "</ul>\n",
    "</div>"
   ]
  },
  {
   "cell_type": "code",
   "execution_count": 25,
   "metadata": {
    "collapsed": true
   },
   "outputs": [],
   "source": [
    "def test(elem):\n",
    "    if elem: \n",
    "        print(\"This is an integer\")\n",
    "    else:\n",
    "        print(\"This isn't an integer\")"
   ]
  },
  {
   "cell_type": "code",
   "execution_count": 27,
   "metadata": {},
   "outputs": [
    {
     "name": "stdout",
     "output_type": "stream",
     "text": [
      "This is an integer\n",
      "This isn't an integer\n"
     ]
    }
   ],
   "source": [
    "test(1)\n",
    "test(0)"
   ]
  },
  {
   "cell_type": "markdown",
   "metadata": {},
   "source": [
    "<div class=\"alert alert-success\">\n",
    "\n",
    "<b>EXERCISE-3</b>:\n",
    "<ul>\n",
    "\n",
    "<l> Considering the following lits, tuple:</l>\n",
    "<l> `month_index = [1, 2, 3, 4, 5]`,   `month_name=('Jan', 'Feb', 'Mar', 'Apr', 'May')`</l>\n",
    "<l> perform the following tasks:</l>\n",
    "<li>In two different ways iterate over the list and print each element </li>\n",
    "</ul>\n",
    "\n",
    "</div>"
   ]
  },
  {
   "cell_type": "code",
   "execution_count": 38,
   "metadata": {},
   "outputs": [
    {
     "name": "stdout",
     "output_type": "stream",
     "text": [
      "Jan\n",
      "Feb\n",
      "Mar\n",
      "Apr\n",
      "May\n"
     ]
    }
   ],
   "source": [
    "month_index = [1, 2, 3, 4, 5]\n",
    "month_name=('Jan', 'Feb', 'Mar', 'Apr', 'May')\n",
    "\n",
    "for i in range (0,len(month_index)):\n",
    "    print(month_name[i])\n"
   ]
  },
  {
   "cell_type": "code",
   "execution_count": 83,
   "metadata": {},
   "outputs": [
    {
     "name": "stdout",
     "output_type": "stream",
     "text": [
      "Jan\n",
      "Feb\n",
      "Mar\n",
      "Apr\n",
      "May\n"
     ]
    }
   ],
   "source": [
    "month_index = [1, 2, 3, 4, 5]\n",
    "month_name=('Jan', 'Feb', 'Mar', 'Apr', 'May')\n",
    "for i in month_index :\n",
    "    print(month_name[i-1])"
   ]
  },
  {
   "cell_type": "markdown",
   "metadata": {},
   "source": [
    "<div class=\"alert alert-success\">\n",
    "\n",
    "<li>Iterate over the tuple and print the month names</li>\n",
    "\n",
    "</div>"
   ]
  },
  {
   "cell_type": "code",
   "execution_count": null,
   "metadata": {
    "collapsed": true
   },
   "outputs": [],
   "source": []
  },
  {
   "cell_type": "markdown",
   "metadata": {},
   "source": [
    "<div class=\"alert alert-success\">\n",
    "\n",
    "<li>Iterate over the month_index and month_name and create a dictionary `month_dict` using **set-comprehension** and **zip**</li>\n",
    "</div>"
   ]
  },
  {
   "cell_type": "code",
   "execution_count": 67,
   "metadata": {},
   "outputs": [
    {
     "name": "stdout",
     "output_type": "stream",
     "text": [
      "{'Jan': 1, 'Apr': 4, 'Mar': 3, 'Feb': 2, 'May': 5}\n"
     ]
    }
   ],
   "source": [
    "month_dict = []\n",
    "\n",
    "for name,index in zip(month_name, month_index):\n",
    "    month_dict = {key:value for key, value in zip(month_name,month_index)}\n",
    "    \n",
    "print month_dict\n"
   ]
  },
  {
   "cell_type": "markdown",
   "metadata": {},
   "source": [
    "<div class=\"alert alert-success\">\n",
    "\n",
    "<b>EXERCISE-4</b>:\n",
    "<ul>\n",
    "<l>considering the year index list `year_index=[2016, 2017, 2018]` and `month_index` and `month_name`</l>\n",
    "<li>Using **`zip`**, **`set-comprehension`**, and **`product`** from `itertools` in a way to get the following output</li>\n",
    "\n",
    "<li>```(2016, ('Jan', 1))\n",
    "(2016, ('Feb', 2))\n",
    "(2016, ('Mar', 3))\n",
    "(2016, ('Apr', 4))\n",
    "(2016, ('May', 5))\n",
    "(2017, ('Jan', 1))\n",
    "(2017, ('Feb', 2))\n",
    "(2017, ('Mar', 3))\n",
    "(2017, ('Apr', 4))\n",
    "(2017, ('May', 5))\n",
    "(2018, ('Jan', 1))\n",
    "(2018, ('Feb', 2))\n",
    "(2018, ('Mar', 3))\n",
    "(2018, ('Apr', 4))\n",
    "(2018, ('May', 5))```</li>\n",
    "</ul>\n",
    "</div>"
   ]
  },
  {
   "cell_type": "code",
   "execution_count": 82,
   "metadata": {},
   "outputs": [
    {
     "data": {
      "text/plain": [
       "5"
      ]
     },
     "execution_count": 82,
     "metadata": {},
     "output_type": "execute_result"
    }
   ],
   "source": [
    "month_index"
   ]
  },
  {
   "cell_type": "code",
   "execution_count": 84,
   "metadata": {},
   "outputs": [],
   "source": [
    "from itertools import product\n",
    "\n",
    "year_index = [2016, 2017, 2018]\n",
    "\n",
    "month = [(name, index) for name, index in zip(month_name, month_index)]\n",
    "\n"
   ]
  },
  {
   "cell_type": "code",
   "execution_count": 85,
   "metadata": {},
   "outputs": [
    {
     "data": {
      "text/plain": [
       "[('Jan', 1), ('Feb', 2), ('Mar', 3), ('Apr', 4), ('May', 5)]"
      ]
     },
     "execution_count": 85,
     "metadata": {},
     "output_type": "execute_result"
    }
   ],
   "source": [
    "month"
   ]
  },
  {
   "cell_type": "code",
   "execution_count": 86,
   "metadata": {
    "collapsed": true
   },
   "outputs": [],
   "source": [
    "a = [(y_idx, elm) for y_idx, elm in product(year_index, month)]"
   ]
  },
  {
   "cell_type": "code",
   "execution_count": 87,
   "metadata": {},
   "outputs": [
    {
     "data": {
      "text/plain": [
       "[(2016, ('Jan', 1)),\n",
       " (2016, ('Feb', 2)),\n",
       " (2016, ('Mar', 3)),\n",
       " (2016, ('Apr', 4)),\n",
       " (2016, ('May', 5)),\n",
       " (2017, ('Jan', 1)),\n",
       " (2017, ('Feb', 2)),\n",
       " (2017, ('Mar', 3)),\n",
       " (2017, ('Apr', 4)),\n",
       " (2017, ('May', 5)),\n",
       " (2018, ('Jan', 1)),\n",
       " (2018, ('Feb', 2)),\n",
       " (2018, ('Mar', 3)),\n",
       " (2018, ('Apr', 4)),\n",
       " (2018, ('May', 5))]"
      ]
     },
     "execution_count": 87,
     "metadata": {},
     "output_type": "execute_result"
    }
   ],
   "source": [
    "a"
   ]
  },
  {
   "cell_type": "markdown",
   "metadata": {},
   "source": [
    "## Main function"
   ]
  },
  {
   "cell_type": "markdown",
   "metadata": {},
   "source": [
    "<div class=\"alert alert-success\">\n",
    "\n",
    "<b>EXERCISE-5</b>:\n",
    "<ul>\n",
    "<l>Write a python script **`print_int_lists.py`** in script folder, which is able to accept a input from the user and print the integers up to the user requested input </l>\n",
    "\n",
    "</ul>\n",
    "</div>"
   ]
  },
  {
   "cell_type": "code",
   "execution_count": 95,
   "metadata": {},
   "outputs": [
    {
     "name": "stdout",
     "output_type": "stream",
     "text": [
      "[0, 1, 2, 3, 4, 5, 6, 7, 8, 9, 10, 11]\n"
     ]
    }
   ],
   "source": [
    "run script/print_int_lists.py 12"
   ]
  },
  {
   "cell_type": "code",
   "execution_count": null,
   "metadata": {
    "collapsed": true
   },
   "outputs": [],
   "source": []
  }
 ],
 "metadata": {
  "kernelspec": {
   "display_name": "Python 2",
   "language": "python",
   "name": "python2"
  },
  "language_info": {
   "codemirror_mode": {
    "name": "ipython",
    "version": 2
   },
   "file_extension": ".py",
   "mimetype": "text/x-python",
   "name": "python",
   "nbconvert_exporter": "python",
   "pygments_lexer": "ipython2",
   "version": "2.7.13"
  }
 },
 "nbformat": 4,
 "nbformat_minor": 2
}
